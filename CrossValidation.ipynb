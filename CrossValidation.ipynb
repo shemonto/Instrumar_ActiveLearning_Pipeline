{
 "cells": [
  {
   "cell_type": "code",
   "execution_count": 50,
   "metadata": {},
   "outputs": [],
   "source": [
    "from sklearn.model_selection import cross_val_score,cross_val_predict\n",
    "from sklearn.metrics import f1_score, accuracy_score\n",
    "from sklearn.ensemble import RandomForestClassifier\n",
    "from sklearn.model_selection import train_test_split\n",
    "from sklearn import tree\n",
    "from sklearn.ensemble import ExtraTreesClassifier\n",
    "from sklearn.naive_bayes import GaussianNB\n",
    "from sklearn.ensemble import GradientBoostingClassifier\n",
    "from sklearn.gaussian_process import GaussianProcessClassifier\n",
    "from sklearn.gaussian_process.kernels import RBF\n",
    "from sklearn.ensemble import AdaBoostClassifier\n",
    "from sklearn.neural_network import MLPClassifier\n",
    "from sklearn.svm import SVC\n",
    "from sklearn.datasets import make_classification\n",
    "import numpy as np\n",
    "import pandas as pd\n",
    "from xgboost import XGBClassifier\n",
    "from sklearn.preprocessing import LabelEncoder\n",
    "\n",
    "\n",
    "#data = pd.read_csv('/Users/shemontod/Desktop/Instrumar/PHP_data/Nodequality/15min_window/Scaled_labeled_15min_nodequality.csv') intially was this\n",
    "data = pd.read_csv('/Users/shemontod/Desktop/Instrumar/PHP_data/SPC/spc_new_features/scaled_labeled_data.csv')\n",
    "\n",
    "data.drop(columns=[\"TimeStamp_start\",\"TimeStamp_end\",\"ThreadlineId\"],  inplace=True)\n",
    "\n",
    "X = data.loc[:, data.columns != 'Label']\n",
    "y = data['Label']\n",
    "\n",
    "X_all = np.array(X)\n",
    "y_all = np.array(y)\n"
   ]
  },
  {
   "cell_type": "code",
   "execution_count": 51,
   "metadata": {},
   "outputs": [
    {
     "data": {
      "text/plain": [
       "(4502, 48)"
      ]
     },
     "execution_count": 51,
     "metadata": {},
     "output_type": "execute_result"
    }
   ],
   "source": [
    "# 1769,12\n",
    "X_all.shape"
   ]
  },
  {
   "cell_type": "code",
   "execution_count": 52,
   "metadata": {},
   "outputs": [
    {
     "data": {
      "text/plain": [
       "(3601, 48)"
      ]
     },
     "execution_count": 52,
     "metadata": {},
     "output_type": "execute_result"
    }
   ],
   "source": [
    "X_train, X_test, y_train, y_test = train_test_split(X_all, y_all, test_size = 0.2,random_state=0)\n",
    "X_train.shape"
   ]
  },
  {
   "cell_type": "code",
   "execution_count": 54,
   "metadata": {},
   "outputs": [
    {
     "data": {
      "text/plain": [
       "(901, 48)"
      ]
     },
     "execution_count": 54,
     "metadata": {},
     "output_type": "execute_result"
    }
   ],
   "source": [
    "X_test.shape"
   ]
  },
  {
   "cell_type": "markdown",
   "metadata": {},
   "source": [
    "### cross_val_predict - returns, for each element in the input, the prediction that was obtained for that element when it was in the test set"
   ]
  },
  {
   "cell_type": "code",
   "execution_count": 41,
   "metadata": {},
   "outputs": [
    {
     "name": "stdout",
     "output_type": "stream",
     "text": [
      "Cross validation scores: [0.5503936  0.67718074 0.62414649 0.58828832 0.5968542 ]\n",
      "Mean cross validation score: 0.6073726674828327\n",
      "F1 score: 0.6131722744732386\n",
      "Accuracy: 0.7922799222438212\n"
     ]
    }
   ],
   "source": [
    "kernel = 1.0 * RBF(1.0)\n",
    "\n",
    "\n",
    "clf = GaussianProcessClassifier(kernel=kernel, random_state=0)\n",
    "\n",
    "# use cross validation to evaluate the model\n",
    "scores = cross_val_score(clf, X_train, y_train, cv=5,scoring='f1_macro')\n",
    "\n",
    "# predict using the cross validation splits\n",
    "y_pred = cross_val_predict(clf, X_train, y_train, cv=5)\n",
    "\n",
    "# calculate the F1 score and accuracy\n",
    "f1 = f1_score(y_train, y_pred, average='macro')\n",
    "accuracy = accuracy_score(y_train, y_pred)\n",
    "\n",
    "# print the cross validation scores, F1 score, and accuracy\n",
    "print(\"Cross validation scores:\", scores)\n",
    "print(\"Mean cross validation score:\", scores.mean())\n",
    "print(\"F1 score:\", f1)\n",
    "print(\"Accuracy:\", accuracy)\n"
   ]
  },
  {
   "cell_type": "markdown",
   "metadata": {},
   "source": [
    "# Random Forest"
   ]
  },
  {
   "cell_type": "code",
   "execution_count": 48,
   "metadata": {},
   "outputs": [
    {
     "name": "stdout",
     "output_type": "stream",
     "text": [
      "Cross validation scores: [0.61164802 0.70941114 0.5862601  0.5913698  0.64213414]\n",
      "Mean cross validation score: 0.6281646382916712\n",
      "F1 score: 0.6344399137340706\n",
      "Accuracy: 0.8217161899472368\n"
     ]
    }
   ],
   "source": [
    "# create a Random Forest classifier\n",
    "clf = RandomForestClassifier(n_estimators=10, random_state=0)\n",
    "\n",
    "# use cross validation to evaluate the model\n",
    "scores = cross_val_score(clf, X_train, y_train, cv=5,scoring='f1_macro')\n",
    "\n",
    "# predict using the cross validation splits\n",
    "y_pred = cross_val_predict(clf, X_train, y_train, cv=5)\n",
    "\n",
    "# calculate the F1 score and accuracy\n",
    "f1 = f1_score(y_train, y_pred, average='macro')\n",
    "accuracy = accuracy_score(y_train, y_pred)\n",
    "\n",
    "# print the cross validation scores, F1 score, and accuracy\n",
    "print(\"Cross validation scores:\", scores)\n",
    "print(\"Mean cross validation score:\", scores.mean())\n",
    "print(\"F1 score:\", f1)\n",
    "print(\"Accuracy:\", accuracy)\n"
   ]
  },
  {
   "cell_type": "code",
   "execution_count": 74,
   "metadata": {},
   "outputs": [
    {
     "name": "stdout",
     "output_type": "stream",
     "text": [
      "Cross validation scores: [0.69061892 0.5937236  0.64762001 0.63894913 0.58669426]\n",
      "Mean cross validation score: 0.6315211861549045\n",
      "F1 score: 0.6314462970395448\n",
      "Accuracy: 0.8879753340184995\n"
     ]
    }
   ],
   "source": [
    "# create a Random Forest classifier\n",
    "clf = RandomForestClassifier(max_depth = None, min_samples_leaf = 1, min_samples_split = 2, n_estimators = 200)\n",
    "\n",
    "# use cross validation to evaluate the model\n",
    "scores = cross_val_score(clf, X_train, y_train, cv=5,scoring='f1_macro')\n",
    "\n",
    "# predict using the cross validation splits\n",
    "y_pred = cross_val_predict(clf, X_train, y_train, cv=5)\n",
    "\n",
    "# calculate the F1 score and accuracy\n",
    "f1 = f1_score(y_train, y_pred, average='macro')\n",
    "accuracy = accuracy_score(y_train, y_pred)\n",
    "\n",
    "# print the cross validation scores, F1 score, and accuracy\n",
    "print(\"Cross validation scores:\", scores)\n",
    "print(\"Mean cross validation score:\", scores.mean())\n",
    "print(\"F1 score:\", f1)\n",
    "print(\"Accuracy:\", accuracy)\n"
   ]
  },
  {
   "cell_type": "markdown",
   "metadata": {},
   "source": [
    "# Extra TreeClassifier"
   ]
  },
  {
   "cell_type": "code",
   "execution_count": 28,
   "metadata": {},
   "outputs": [
    {
     "name": "stdout",
     "output_type": "stream",
     "text": [
      "Cross validation scores: [0.55186952 0.65991047 0.61387714 0.56493595 0.61309794]\n",
      "Mean cross validation score: 0.6007382043142702\n",
      "F1 score: 0.6135513837367006\n",
      "Accuracy: 0.8031102471535685\n"
     ]
    }
   ],
   "source": [
    "\n",
    "clf = ExtraTreesClassifier()\n",
    "\n",
    "# use cross validation to evaluate the model\n",
    "scores = cross_val_score(clf, X_train, y_train, cv=5,scoring='f1_macro')\n",
    "\n",
    "# predict using the cross validation splits\n",
    "y_pred = cross_val_predict(clf, X_train, y_train, cv=5)\n",
    "\n",
    "# calculate the F1 score and accuracy\n",
    "f1 = f1_score(y_train, y_pred, average='macro')\n",
    "accuracy = accuracy_score(y_train, y_pred)\n",
    "\n",
    "# print the cross validation scores, F1 score, and accuracy\n",
    "print(\"Cross validation scores:\", scores)\n",
    "print(\"Mean cross validation score:\", scores.mean())\n",
    "print(\"F1 score:\", f1)\n",
    "print(\"Accuracy:\", accuracy)\n"
   ]
  },
  {
   "cell_type": "code",
   "execution_count": 27,
   "metadata": {},
   "outputs": [
    {
     "name": "stdout",
     "output_type": "stream",
     "text": [
      "Cross validation scores: [0.78918169 0.81805556 0.80138889 0.78611111 0.82361111]\n",
      "Mean cross validation score: 0.803669671752196\n",
      "F1 score: 0.6134781739220241\n",
      "Accuracy: 0.802832546514857\n"
     ]
    }
   ],
   "source": [
    "\n",
    "clf = ExtraTreesClassifier()\n",
    "\n",
    "# use cross validation to evaluate the model\n",
    "scores = cross_val_score(clf, X_train, y_train, cv=5,scoring='accuracy')\n",
    "\n",
    "# predict using the cross validation splits\n",
    "y_pred = cross_val_predict(clf, X_train, y_train, cv=5)\n",
    "\n",
    "# calculate the F1 score and accuracy\n",
    "f1 = f1_score(y_train, y_pred, average='macro')\n",
    "accuracy = accuracy_score(y_train, y_pred)\n",
    "\n",
    "# print the cross validation scores, F1 score, and accuracy\n",
    "print(\"Cross validation scores:\", scores)\n",
    "print(\"Mean cross validation score:\", scores.mean())\n",
    "print(\"F1 score:\", f1)\n",
    "print(\"Accuracy:\", accuracy)\n"
   ]
  },
  {
   "cell_type": "markdown",
   "metadata": {},
   "source": [
    "# XGBClassifier"
   ]
  },
  {
   "cell_type": "code",
   "execution_count": 29,
   "metadata": {},
   "outputs": [
    {
     "name": "stdout",
     "output_type": "stream",
     "text": [
      "Cross validation scores: [0.6203992  0.76319609 0.63504105 0.61634006 0.71205131]\n",
      "Mean cross validation score: 0.6694055391337772\n",
      "F1 score: 0.6764698947387074\n",
      "Accuracy: 0.8486531519022493\n"
     ]
    }
   ],
   "source": [
    "# create a XGB classifier\n",
    "clf = XGBClassifier()\n",
    "le = LabelEncoder()\n",
    "y_encoded = le.fit_transform(y_train)\n",
    "y_test_encoded = le.fit_transform(y_test)\n",
    "\n",
    "\n",
    "# use cross validation to evaluate the model\n",
    "scores = cross_val_score(clf, X_train, y_encoded, cv=5,scoring='f1_macro')\n",
    "\n",
    "# predict using the cross validation splits\n",
    "y_pred = cross_val_predict(clf, X_train, y_encoded, cv=5)\n",
    "\n",
    "# calculate the F1 score and accuracy\n",
    "f1 = f1_score(y_encoded, y_pred, average='macro')\n",
    "accuracy = accuracy_score(y_encoded, y_pred)\n",
    "\n",
    "# print the cross validation scores, F1 score, and accuracy\n",
    "print(\"Cross validation scores:\", scores)\n",
    "print(\"Mean cross validation score:\", scores.mean())\n",
    "print(\"F1 score:\", f1)\n",
    "print(\"Accuracy:\", accuracy)\n"
   ]
  },
  {
   "cell_type": "code",
   "execution_count": 55,
   "metadata": {},
   "outputs": [
    {
     "name": "stdout",
     "output_type": "stream",
     "text": [
      "Cross validation scores: [0.72467986 0.73923166 0.72875437 0.70838184 0.70838184]\n",
      "Mean cross validation score: 0.7218859138533178\n",
      "F1 score: 0.4881001607595213\n",
      "Accuracy: 0.7218859138533178\n"
     ]
    }
   ],
   "source": [
    "# create a XGB classifier\n",
    "clf = XGBClassifier()\n",
    "le = LabelEncoder()\n",
    "y_encoded = le.fit_transform(y_train)\n",
    "y_test_encoded = le.fit_transform(y_test)\n",
    "\n",
    "\n",
    "# use cross validation to evaluate the model\n",
    "scores = cross_val_score(clf, X_train, y_encoded, cv=5,scoring='accuracy')\n",
    "\n",
    "# predict using the cross validation splits\n",
    "y_pred = cross_val_predict(clf, X_train, y_encoded, cv=5)\n",
    "\n",
    "# calculate the F1 score and accuracy\n",
    "f1 = f1_score(y_encoded, y_pred, average='macro')\n",
    "accuracy = accuracy_score(y_encoded, y_pred)\n",
    "\n",
    "# print the cross validation scores, F1 score, and accuracy\n",
    "print(\"Cross validation scores:\", scores)\n",
    "print(\"Mean cross validation score:\", scores.mean())\n",
    "print(\"F1 score:\", f1)\n",
    "print(\"Accuracy:\", accuracy)\n"
   ]
  },
  {
   "cell_type": "markdown",
   "metadata": {},
   "source": [
    "# Decision Tree"
   ]
  },
  {
   "cell_type": "code",
   "execution_count": 19,
   "metadata": {},
   "outputs": [
    {
     "name": "stdout",
     "output_type": "stream",
     "text": [
      "Cross validation scores: [0.55650063 0.62082702 0.58809879 0.55247877 0.59942267]\n",
      "Mean cross validation score: 0.5834655795634471\n",
      "F1 score: 0.5900565788163968\n",
      "Accuracy: 0.7692307692307693\n"
     ]
    }
   ],
   "source": [
    "# create a Random Forest classifier\n",
    "clf = tree.DecisionTreeClassifier()\n",
    "\n",
    "# use cross validation to evaluate the model\n",
    "scores = cross_val_score(clf, X_train, y_train, cv=5,scoring='f1_macro')\n",
    "\n",
    "# predict using the cross validation splits\n",
    "y_pred = cross_val_predict(clf,X_train, y_train, cv=5)\n",
    "\n",
    "# calculate the F1 score and accuracy\n",
    "f1 = f1_score(y_train, y_pred, average='macro')\n",
    "accuracy = accuracy_score(y_train, y_pred)\n",
    "\n",
    "# print the cross validation scores, F1 score, and accuracy\n",
    "print(\"Cross validation scores:\", scores)\n",
    "print(\"Mean cross validation score:\", scores.mean())\n",
    "print(\"F1 score:\", f1)\n",
    "print(\"Accuracy:\", accuracy)\n"
   ]
  },
  {
   "cell_type": "code",
   "execution_count": 56,
   "metadata": {},
   "outputs": [
    {
     "name": "stdout",
     "output_type": "stream",
     "text": [
      "Cross validation scores: [0.62456345 0.62107101 0.61233993 0.60651921 0.59778813]\n",
      "Mean cross validation score: 0.6124563445867287\n",
      "F1 score: 0.41149994684711205\n",
      "Accuracy: 0.6079161816065192\n"
     ]
    },
    {
     "data": {
      "text/plain": [
       "sklearn.ensemble._gb.GradientBoostingClassifier"
      ]
     },
     "execution_count": 56,
     "metadata": {},
     "output_type": "execute_result"
    }
   ],
   "source": [
    "# create a Random Forest classifier\n",
    "clf = tree.DecisionTreeClassifier()\n",
    "\n",
    "# use cross validation to evaluate the model\n",
    "scores = cross_val_score(clf, X_train, y_train, cv=5,scoring='accuracy')\n",
    "\n",
    "# predict using the cross validation splits\n",
    "y_pred = cross_val_predict(clf,X_train, y_train, cv=5)\n",
    "\n",
    "# calculate the F1 score and accuracy\n",
    "f1 = f1_score(y_train, y_pred, average='macro')\n",
    "accuracy = accuracy_score(y_train, y_pred)\n",
    "\n",
    "# print the cross validation scores, F1 score, and accuracy\n",
    "print(\"Cross validation scores:\", scores)\n",
    "print(\"Mean cross validation score:\", scores.mean())\n",
    "print(\"F1 score:\", f1)\n",
    "print(\"Accuracy:\", accuracy)\n",
    "GradientBoostingClassifier\n"
   ]
  },
  {
   "cell_type": "markdown",
   "metadata": {},
   "source": [
    "# GradientBoostingClassifier"
   ]
  },
  {
   "cell_type": "code",
   "execution_count": 49,
   "metadata": {},
   "outputs": [
    {
     "name": "stdout",
     "output_type": "stream",
     "text": [
      "Cross validation scores: [0.61952418 0.76368725 0.6609219  0.63326385 0.7131276 ]\n",
      "Mean cross validation score: 0.678104957351529\n",
      "F1 score: 0.6811684463941938\n",
      "Accuracy: 0.8486531519022493\n"
     ]
    }
   ],
   "source": [
    "# create a Random Forest classifier\n",
    "clf = GradientBoostingClassifier(n_estimators=300)\n",
    "\n",
    "# use cross validation to evaluate the model\n",
    "scores = cross_val_score(clf, X_train, y_train, cv=5,scoring='f1_macro')\n",
    "\n",
    "# predict using the cross validation splits\n",
    "y_pred = cross_val_predict(clf,X_train, y_train, cv=5)\n",
    "\n",
    "# calculate the F1 score and accuracy\n",
    "f1 = f1_score(y_train, y_pred, average='macro')\n",
    "accuracy = accuracy_score(y_train, y_pred)\n",
    "\n",
    "# print the cross validation scores, F1 score, and accuracy\n",
    "print(\"Cross validation scores:\", scores)\n",
    "print(\"Mean cross validation score:\", scores.mean())\n",
    "print(\"F1 score:\", f1)\n",
    "print(\"Accuracy:\", accuracy)\n"
   ]
  },
  {
   "cell_type": "code",
   "execution_count": 57,
   "metadata": {},
   "outputs": [
    {
     "name": "stdout",
     "output_type": "stream",
     "text": [
      "Cross validation scores: [0.71245634 0.71478463 0.70896391 0.70256112 0.70139697]\n",
      "Mean cross validation score: 0.7080325960419093\n",
      "F1 score: 0.449226089407916\n",
      "Accuracy: 0.7082654249126892\n"
     ]
    }
   ],
   "source": [
    "# create a Random Forest classifier\n",
    "clf = GradientBoostingClassifier(n_estimators=300)\n",
    "\n",
    "# use cross validation to evaluate the model\n",
    "scores = cross_val_score(clf, X_train, y_train, cv=5,scoring='accuracy')\n",
    "\n",
    "# predict using the cross validation splits\n",
    "y_pred = cross_val_predict(clf,X_train, y_train, cv=5)\n",
    "\n",
    "# calculate the F1 score and accuracy\n",
    "f1 = f1_score(y_train, y_pred, average='macro')\n",
    "accuracy = accuracy_score(y_train, y_pred)\n",
    "\n",
    "# print the cross validation scores, F1 score, and accuracy\n",
    "print(\"Cross validation scores:\", scores)\n",
    "print(\"Mean cross validation score:\", scores.mean())\n",
    "print(\"F1 score:\", f1)\n",
    "print(\"Accuracy:\", accuracy)\n"
   ]
  },
  {
   "cell_type": "code",
   "execution_count": null,
   "metadata": {},
   "outputs": [],
   "source": []
  }
 ],
 "metadata": {
  "kernelspec": {
   "display_name": "base",
   "language": "python",
   "name": "python3"
  },
  "language_info": {
   "codemirror_mode": {
    "name": "ipython",
    "version": 3
   },
   "file_extension": ".py",
   "mimetype": "text/x-python",
   "name": "python",
   "nbconvert_exporter": "python",
   "pygments_lexer": "ipython3",
   "version": "3.9.13"
  },
  "orig_nbformat": 4,
  "vscode": {
   "interpreter": {
    "hash": "0d742b05558f186a427b5d37ad83422aba365be3e6dd4374326b48a01ce02d48"
   }
  }
 },
 "nbformat": 4,
 "nbformat_minor": 2
}
